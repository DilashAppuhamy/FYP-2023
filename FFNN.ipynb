{
 "cells": [
  {
   "cell_type": "code",
   "execution_count": 2,
   "id": "96384cf8",
   "metadata": {},
   "outputs": [],
   "source": [
    "import pandas as pd\n",
    "import numpy as np"
   ]
  },
  {
   "cell_type": "code",
   "execution_count": 3,
   "id": "9a47b0c1",
   "metadata": {
    "scrolled": true
   },
   "outputs": [
    {
     "data": {
      "text/html": [
       "<div>\n",
       "<style scoped>\n",
       "    .dataframe tbody tr th:only-of-type {\n",
       "        vertical-align: middle;\n",
       "    }\n",
       "\n",
       "    .dataframe tbody tr th {\n",
       "        vertical-align: top;\n",
       "    }\n",
       "\n",
       "    .dataframe thead th {\n",
       "        text-align: right;\n",
       "    }\n",
       "</style>\n",
       "<table border=\"1\" class=\"dataframe\">\n",
       "  <thead>\n",
       "    <tr style=\"text-align: right;\">\n",
       "      <th></th>\n",
       "      <th>Date/Time</th>\n",
       "      <th>Temp_C</th>\n",
       "      <th>Dew Point Temp_C</th>\n",
       "      <th>Rel Hum_%</th>\n",
       "      <th>Wind Speed_km/h</th>\n",
       "      <th>Press_kPa</th>\n",
       "      <th>Weather</th>\n",
       "    </tr>\n",
       "  </thead>\n",
       "  <tbody>\n",
       "    <tr>\n",
       "      <th>0</th>\n",
       "      <td>1/1/2012 1:00</td>\n",
       "      <td>-1.8</td>\n",
       "      <td>-3.7</td>\n",
       "      <td>87</td>\n",
       "      <td>4</td>\n",
       "      <td>101.24</td>\n",
       "      <td>0</td>\n",
       "    </tr>\n",
       "    <tr>\n",
       "      <th>1</th>\n",
       "      <td>1/1/2012 2:00</td>\n",
       "      <td>-1.8</td>\n",
       "      <td>-3.4</td>\n",
       "      <td>89</td>\n",
       "      <td>7</td>\n",
       "      <td>101.26</td>\n",
       "      <td>1</td>\n",
       "    </tr>\n",
       "    <tr>\n",
       "      <th>2</th>\n",
       "      <td>1/1/2012 3:00</td>\n",
       "      <td>-1.5</td>\n",
       "      <td>-3.2</td>\n",
       "      <td>88</td>\n",
       "      <td>6</td>\n",
       "      <td>101.27</td>\n",
       "      <td>1</td>\n",
       "    </tr>\n",
       "    <tr>\n",
       "      <th>3</th>\n",
       "      <td>1/1/2012 4:00</td>\n",
       "      <td>-1.5</td>\n",
       "      <td>-3.3</td>\n",
       "      <td>88</td>\n",
       "      <td>7</td>\n",
       "      <td>101.23</td>\n",
       "      <td>0</td>\n",
       "    </tr>\n",
       "    <tr>\n",
       "      <th>4</th>\n",
       "      <td>1/1/2012 5:00</td>\n",
       "      <td>-1.4</td>\n",
       "      <td>-3.3</td>\n",
       "      <td>87</td>\n",
       "      <td>9</td>\n",
       "      <td>101.27</td>\n",
       "      <td>0</td>\n",
       "    </tr>\n",
       "    <tr>\n",
       "      <th>...</th>\n",
       "      <td>...</td>\n",
       "      <td>...</td>\n",
       "      <td>...</td>\n",
       "      <td>...</td>\n",
       "      <td>...</td>\n",
       "      <td>...</td>\n",
       "      <td>...</td>\n",
       "    </tr>\n",
       "    <tr>\n",
       "      <th>8323</th>\n",
       "      <td>12/31/2012 19:00</td>\n",
       "      <td>0.1</td>\n",
       "      <td>-2.7</td>\n",
       "      <td>81</td>\n",
       "      <td>30</td>\n",
       "      <td>100.13</td>\n",
       "      <td>8</td>\n",
       "    </tr>\n",
       "    <tr>\n",
       "      <th>8324</th>\n",
       "      <td>12/31/2012 20:00</td>\n",
       "      <td>0.2</td>\n",
       "      <td>-2.4</td>\n",
       "      <td>83</td>\n",
       "      <td>24</td>\n",
       "      <td>100.03</td>\n",
       "      <td>8</td>\n",
       "    </tr>\n",
       "    <tr>\n",
       "      <th>8325</th>\n",
       "      <td>12/31/2012 21:00</td>\n",
       "      <td>-0.5</td>\n",
       "      <td>-1.5</td>\n",
       "      <td>93</td>\n",
       "      <td>28</td>\n",
       "      <td>99.95</td>\n",
       "      <td>8</td>\n",
       "    </tr>\n",
       "    <tr>\n",
       "      <th>8326</th>\n",
       "      <td>12/31/2012 22:00</td>\n",
       "      <td>-0.2</td>\n",
       "      <td>-1.8</td>\n",
       "      <td>89</td>\n",
       "      <td>28</td>\n",
       "      <td>99.91</td>\n",
       "      <td>8</td>\n",
       "    </tr>\n",
       "    <tr>\n",
       "      <th>8327</th>\n",
       "      <td>12/31/2012 23:00</td>\n",
       "      <td>0.0</td>\n",
       "      <td>-2.1</td>\n",
       "      <td>86</td>\n",
       "      <td>30</td>\n",
       "      <td>99.89</td>\n",
       "      <td>8</td>\n",
       "    </tr>\n",
       "  </tbody>\n",
       "</table>\n",
       "<p>8328 rows × 7 columns</p>\n",
       "</div>"
      ],
      "text/plain": [
       "             Date/Time  Temp_C  Dew Point Temp_C  Rel Hum_%  Wind Speed_km/h  \\\n",
       "0        1/1/2012 1:00    -1.8              -3.7         87                4   \n",
       "1        1/1/2012 2:00    -1.8              -3.4         89                7   \n",
       "2        1/1/2012 3:00    -1.5              -3.2         88                6   \n",
       "3        1/1/2012 4:00    -1.5              -3.3         88                7   \n",
       "4        1/1/2012 5:00    -1.4              -3.3         87                9   \n",
       "...                ...     ...               ...        ...              ...   \n",
       "8323  12/31/2012 19:00     0.1              -2.7         81               30   \n",
       "8324  12/31/2012 20:00     0.2              -2.4         83               24   \n",
       "8325  12/31/2012 21:00    -0.5              -1.5         93               28   \n",
       "8326  12/31/2012 22:00    -0.2              -1.8         89               28   \n",
       "8327  12/31/2012 23:00     0.0              -2.1         86               30   \n",
       "\n",
       "      Press_kPa  Weather  \n",
       "0        101.24        0  \n",
       "1        101.26        1  \n",
       "2        101.27        1  \n",
       "3        101.23        0  \n",
       "4        101.27        0  \n",
       "...         ...      ...  \n",
       "8323     100.13        8  \n",
       "8324     100.03        8  \n",
       "8325      99.95        8  \n",
       "8326      99.91        8  \n",
       "8327      99.89        8  \n",
       "\n",
       "[8328 rows x 7 columns]"
      ]
     },
     "execution_count": 3,
     "metadata": {},
     "output_type": "execute_result"
    }
   ],
   "source": [
    "df=pd.read_csv('E:\\\\Sliit\\\\4th yr 1st sem\\\\project\\\\2nd sem\\\\Weather prediction sensor data\\\\cleaned_dataset (1).csv')\n",
    "df"
   ]
  },
  {
   "cell_type": "code",
   "execution_count": 4,
   "id": "32be3a0b",
   "metadata": {},
   "outputs": [],
   "source": [
    "dataset=df.values\n",
    "data=dataset[:,1:6]\n",
    "target=dataset[:,6]"
   ]
  },
  {
   "cell_type": "code",
   "execution_count": 5,
   "id": "e4cd7192",
   "metadata": {},
   "outputs": [
    {
     "name": "stdout",
     "output_type": "stream",
     "text": [
      "(8328, 5) (8328,)\n"
     ]
    }
   ],
   "source": [
    "print(data.shape,target.shape)"
   ]
  },
  {
   "cell_type": "code",
   "execution_count": 6,
   "id": "9775299b",
   "metadata": {},
   "outputs": [
    {
     "data": {
      "text/plain": [
       "array([0, 1, 1, ..., 8, 8, 8], dtype=object)"
      ]
     },
     "execution_count": 6,
     "metadata": {},
     "output_type": "execute_result"
    }
   ],
   "source": [
    "target"
   ]
  },
  {
   "cell_type": "code",
   "execution_count": 7,
   "id": "d9508164",
   "metadata": {},
   "outputs": [
    {
     "name": "stderr",
     "output_type": "stream",
     "text": [
      "E:\\anaconda\\lib\\site-packages\\scipy\\__init__.py:146: UserWarning: A NumPy version >=1.16.5 and <1.23.0 is required for this version of SciPy (detected version 1.24.3\n",
      "  warnings.warn(f\"A NumPy version >={np_minversion} and <{np_maxversion}\"\n"
     ]
    }
   ],
   "source": [
    "#data normalization\n",
    "from sklearn.preprocessing import MinMaxScaler\n",
    "target=np.reshape(target, (-1,1)) \n",
    "\n",
    "scaler_data = MinMaxScaler()\n",
    "scaler_target = MinMaxScaler()\n",
    "\n",
    "scaler_data.fit(data)\n",
    "scaler_target.fit(target)\n",
    "\n",
    "data_scaled=scaler_data.transform(data)\n",
    "target_scaled=scaler_target.transform(target)"
   ]
  },
  {
   "cell_type": "code",
   "execution_count": 8,
   "id": "1f879881",
   "metadata": {},
   "outputs": [],
   "source": [
    "from sklearn.preprocessing import StandardScaler\n",
    "\n",
    "standard_scaler = StandardScaler()\n",
    "standard_scaled_data = standard_scaler.fit_transform(data)"
   ]
  },
  {
   "cell_type": "code",
   "execution_count": 9,
   "id": "492f6767",
   "metadata": {},
   "outputs": [],
   "source": [
    "from sklearn.model_selection import train_test_split\n",
    "\n",
    "train_data, test_data, train_target, test_target = train_test_split(data_scaled, target_scaled,test_size=0.2)"
   ]
  },
  {
   "cell_type": "code",
   "execution_count": 10,
   "id": "2a4ca3bb",
   "metadata": {},
   "outputs": [
    {
     "name": "stdout",
     "output_type": "stream",
     "text": [
      "Model: \"sequential\"\n",
      "_________________________________________________________________\n",
      " Layer (type)                Output Shape              Param #   \n",
      "=================================================================\n",
      " dense (Dense)               (None, 128)               768       \n",
      "                                                                 \n",
      " dropout (Dropout)           (None, 128)               0         \n",
      "                                                                 \n",
      " dense_1 (Dense)             (None, 64)                8256      \n",
      "                                                                 \n",
      " dropout_1 (Dropout)         (None, 64)                0         \n",
      "                                                                 \n",
      " dense_2 (Dense)             (None, 10)                650       \n",
      "                                                                 \n",
      " dense_3 (Dense)             (None, 9)                 99        \n",
      "                                                                 \n",
      "=================================================================\n",
      "Total params: 9773 (38.18 KB)\n",
      "Trainable params: 9773 (38.18 KB)\n",
      "Non-trainable params: 0 (0.00 Byte)\n",
      "_________________________________________________________________\n"
     ]
    }
   ],
   "source": [
    "from keras.models import Sequential\n",
    "from keras.layers import Dense,Dropout\n",
    "import numpy as np\n",
    "\n",
    "model = Sequential()\n",
    "model.add(Dense(128, input_dim=5, activation='sigmoid',kernel_initializer='normal'))\n",
    "model.add(Dropout(0.5))\n",
    "model.add(Dense(64, activation='sigmoid'))\n",
    "model.add(Dropout(0.5))\n",
    "model.add(Dense(10, activation='sigmoid'))\n",
    "model.add(Dense(9, activation='linear'))\n",
    "\n",
    "model.compile(optimizer='adam',loss='mse',metrics=['mse','mae'])\n",
    "\n",
    "model.summary()"
   ]
  },
  {
   "cell_type": "code",
   "execution_count": 11,
   "id": "492276c0",
   "metadata": {},
   "outputs": [],
   "source": [
    "from keras.callbacks import ModelCheckpoint\n",
    "\n",
    "checkpoint = ModelCheckpoint('models/model-{epoch:03d}.model',monitor='val_loss',save_best_only=True,mode='auto')"
   ]
  },
  {
   "cell_type": "code",
   "execution_count": 12,
   "id": "6020a7c9",
   "metadata": {
    "scrolled": true
   },
   "outputs": [
    {
     "name": "stdout",
     "output_type": "stream",
     "text": [
      "Epoch 1/200\n",
      "208/209 [============================>.] - ETA: 0s - loss: 0.1655 - mse: 0.1655 - mae: 0.3194INFO:tensorflow:Assets written to: models\\model-001.model\\assets\n"
     ]
    },
    {
     "name": "stderr",
     "output_type": "stream",
     "text": [
      "INFO:tensorflow:Assets written to: models\\model-001.model\\assets\n"
     ]
    },
    {
     "name": "stdout",
     "output_type": "stream",
     "text": [
      "209/209 [==============================] - 9s 21ms/step - loss: 0.1655 - mse: 0.1655 - mae: 0.3193 - val_loss: 0.0860 - val_mse: 0.0860 - val_mae: 0.2580\n",
      "Epoch 2/200\n",
      "202/209 [===========================>..] - ETA: 0s - loss: 0.0855 - mse: 0.0855 - mae: 0.2595INFO:tensorflow:Assets written to: models\\model-002.model\\assets\n"
     ]
    },
    {
     "name": "stderr",
     "output_type": "stream",
     "text": [
      "INFO:tensorflow:Assets written to: models\\model-002.model\\assets\n"
     ]
    },
    {
     "name": "stdout",
     "output_type": "stream",
     "text": [
      "209/209 [==============================] - 3s 15ms/step - loss: 0.0854 - mse: 0.0854 - mae: 0.2592 - val_loss: 0.0833 - val_mse: 0.0833 - val_mae: 0.2574\n",
      "Epoch 3/200\n",
      "204/209 [============================>.] - ETA: 0s - loss: 0.0844 - mse: 0.0844 - mae: 0.2594INFO:tensorflow:Assets written to: models\\model-003.model\\assets\n"
     ]
    },
    {
     "name": "stderr",
     "output_type": "stream",
     "text": [
      "INFO:tensorflow:Assets written to: models\\model-003.model\\assets\n"
     ]
    },
    {
     "name": "stdout",
     "output_type": "stream",
     "text": [
      "209/209 [==============================] - 3s 13ms/step - loss: 0.0843 - mse: 0.0843 - mae: 0.2592 - val_loss: 0.0832 - val_mse: 0.0832 - val_mae: 0.2574\n",
      "Epoch 4/200\n",
      "209/209 [==============================] - 1s 6ms/step - loss: 0.0840 - mse: 0.0840 - mae: 0.2592 - val_loss: 0.0833 - val_mse: 0.0833 - val_mae: 0.2575\n",
      "Epoch 5/200\n",
      "201/209 [===========================>..] - ETA: 0s - loss: 0.0836 - mse: 0.0836 - mae: 0.2584INFO:tensorflow:Assets written to: models\\model-005.model\\assets\n"
     ]
    },
    {
     "name": "stderr",
     "output_type": "stream",
     "text": [
      "INFO:tensorflow:Assets written to: models\\model-005.model\\assets\n"
     ]
    },
    {
     "name": "stdout",
     "output_type": "stream",
     "text": [
      "209/209 [==============================] - 3s 15ms/step - loss: 0.0839 - mse: 0.0839 - mae: 0.2591 - val_loss: 0.0831 - val_mse: 0.0831 - val_mae: 0.2573\n",
      "Epoch 6/200\n",
      "209/209 [==============================] - 1s 5ms/step - loss: 0.0837 - mse: 0.0837 - mae: 0.2590 - val_loss: 0.0834 - val_mse: 0.0834 - val_mae: 0.2575\n",
      "Epoch 7/200\n",
      "209/209 [==============================] - 1s 6ms/step - loss: 0.0837 - mse: 0.0837 - mae: 0.2589 - val_loss: 0.0838 - val_mse: 0.0838 - val_mae: 0.2576\n",
      "Epoch 8/200\n",
      "203/209 [============================>.] - ETA: 0s - loss: 0.0836 - mse: 0.0836 - mae: 0.2590INFO:tensorflow:Assets written to: models\\model-008.model\\assets\n"
     ]
    },
    {
     "name": "stderr",
     "output_type": "stream",
     "text": [
      "INFO:tensorflow:Assets written to: models\\model-008.model\\assets\n"
     ]
    },
    {
     "name": "stdout",
     "output_type": "stream",
     "text": [
      "209/209 [==============================] - 3s 14ms/step - loss: 0.0837 - mse: 0.0837 - mae: 0.2591 - val_loss: 0.0831 - val_mse: 0.0831 - val_mae: 0.2573\n",
      "Epoch 9/200\n",
      "209/209 [==============================] - 1s 6ms/step - loss: 0.0837 - mse: 0.0837 - mae: 0.2592 - val_loss: 0.0832 - val_mse: 0.0832 - val_mae: 0.2574\n",
      "Epoch 10/200\n",
      "209/209 [==============================] - 1s 6ms/step - loss: 0.0836 - mse: 0.0836 - mae: 0.2592 - val_loss: 0.0831 - val_mse: 0.0831 - val_mae: 0.2574\n",
      "Epoch 11/200\n",
      "209/209 [==============================] - 1s 5ms/step - loss: 0.0836 - mse: 0.0836 - mae: 0.2592 - val_loss: 0.0832 - val_mse: 0.0832 - val_mae: 0.2575\n",
      "Epoch 12/200\n",
      "197/209 [===========================>..] - ETA: 0s - loss: 0.0838 - mse: 0.0838 - mae: 0.2594INFO:tensorflow:Assets written to: models\\model-012.model\\assets\n"
     ]
    },
    {
     "name": "stderr",
     "output_type": "stream",
     "text": [
      "INFO:tensorflow:Assets written to: models\\model-012.model\\assets\n"
     ]
    },
    {
     "name": "stdout",
     "output_type": "stream",
     "text": [
      "209/209 [==============================] - 3s 16ms/step - loss: 0.0835 - mse: 0.0835 - mae: 0.2591 - val_loss: 0.0831 - val_mse: 0.0831 - val_mae: 0.2573\n",
      "Epoch 13/200\n",
      "209/209 [==============================] - 1s 7ms/step - loss: 0.0837 - mse: 0.0837 - mae: 0.2589 - val_loss: 0.0831 - val_mse: 0.0831 - val_mae: 0.2573\n",
      "Epoch 14/200\n",
      "209/209 [==============================] - ETA: 0s - loss: 0.0835 - mse: 0.0835 - mae: 0.2589INFO:tensorflow:Assets written to: models\\model-014.model\\assets\n"
     ]
    },
    {
     "name": "stderr",
     "output_type": "stream",
     "text": [
      "INFO:tensorflow:Assets written to: models\\model-014.model\\assets\n"
     ]
    },
    {
     "name": "stdout",
     "output_type": "stream",
     "text": [
      "209/209 [==============================] - 3s 15ms/step - loss: 0.0835 - mse: 0.0835 - mae: 0.2589 - val_loss: 0.0831 - val_mse: 0.0831 - val_mae: 0.2573\n",
      "Epoch 15/200\n",
      "209/209 [==============================] - 1s 6ms/step - loss: 0.0835 - mse: 0.0835 - mae: 0.2590 - val_loss: 0.0839 - val_mse: 0.0839 - val_mae: 0.2576\n",
      "Epoch 16/200\n",
      "207/209 [============================>.] - ETA: 0s - loss: 0.0836 - mse: 0.0836 - mae: 0.2590INFO:tensorflow:Assets written to: models\\model-016.model\\assets\n"
     ]
    },
    {
     "name": "stderr",
     "output_type": "stream",
     "text": [
      "INFO:tensorflow:Assets written to: models\\model-016.model\\assets\n"
     ]
    },
    {
     "name": "stdout",
     "output_type": "stream",
     "text": [
      "209/209 [==============================] - 3s 14ms/step - loss: 0.0836 - mse: 0.0836 - mae: 0.2590 - val_loss: 0.0831 - val_mse: 0.0831 - val_mae: 0.2573\n",
      "Epoch 17/200\n",
      "209/209 [==============================] - 1s 6ms/step - loss: 0.0835 - mse: 0.0835 - mae: 0.2591 - val_loss: 0.0832 - val_mse: 0.0832 - val_mae: 0.2574\n",
      "Epoch 18/200\n",
      "209/209 [==============================] - 1s 6ms/step - loss: 0.0835 - mse: 0.0835 - mae: 0.2590 - val_loss: 0.0835 - val_mse: 0.0835 - val_mae: 0.2576\n",
      "Epoch 19/200\n",
      "209/209 [==============================] - 1s 6ms/step - loss: 0.0836 - mse: 0.0836 - mae: 0.2589 - val_loss: 0.0834 - val_mse: 0.0834 - val_mae: 0.2575\n",
      "Epoch 20/200\n",
      "209/209 [==============================] - 1s 6ms/step - loss: 0.0835 - mse: 0.0835 - mae: 0.2588 - val_loss: 0.0831 - val_mse: 0.0831 - val_mae: 0.2573\n",
      "Epoch 21/200\n",
      "209/209 [==============================] - 1s 5ms/step - loss: 0.0835 - mse: 0.0835 - mae: 0.2591 - val_loss: 0.0831 - val_mse: 0.0831 - val_mae: 0.2574\n",
      "Epoch 22/200\n",
      "209/209 [==============================] - 1s 6ms/step - loss: 0.0836 - mse: 0.0836 - mae: 0.2590 - val_loss: 0.0832 - val_mse: 0.0832 - val_mae: 0.2574\n",
      "Epoch 23/200\n",
      "209/209 [==============================] - 1s 6ms/step - loss: 0.0836 - mse: 0.0836 - mae: 0.2591 - val_loss: 0.0833 - val_mse: 0.0833 - val_mae: 0.2575\n",
      "Epoch 24/200\n",
      "198/209 [===========================>..] - ETA: 0s - loss: 0.0836 - mse: 0.0836 - mae: 0.2591INFO:tensorflow:Assets written to: models\\model-024.model\\assets\n"
     ]
    },
    {
     "name": "stderr",
     "output_type": "stream",
     "text": [
      "INFO:tensorflow:Assets written to: models\\model-024.model\\assets\n"
     ]
    },
    {
     "name": "stdout",
     "output_type": "stream",
     "text": [
      "209/209 [==============================] - 3s 15ms/step - loss: 0.0835 - mse: 0.0835 - mae: 0.2591 - val_loss: 0.0831 - val_mse: 0.0831 - val_mae: 0.2573\n",
      "Epoch 25/200\n",
      "209/209 [==============================] - 1s 7ms/step - loss: 0.0836 - mse: 0.0836 - mae: 0.2591 - val_loss: 0.0833 - val_mse: 0.0833 - val_mae: 0.2575\n",
      "Epoch 26/200\n",
      "209/209 [==============================] - 1s 6ms/step - loss: 0.0836 - mse: 0.0836 - mae: 0.2590 - val_loss: 0.0831 - val_mse: 0.0831 - val_mae: 0.2574\n",
      "Epoch 27/200\n",
      "209/209 [==============================] - 1s 5ms/step - loss: 0.0835 - mse: 0.0835 - mae: 0.2589 - val_loss: 0.0838 - val_mse: 0.0838 - val_mae: 0.2576\n",
      "Epoch 28/200\n",
      "209/209 [==============================] - 1s 6ms/step - loss: 0.0836 - mse: 0.0836 - mae: 0.2590 - val_loss: 0.0832 - val_mse: 0.0832 - val_mae: 0.2572\n",
      "Epoch 29/200\n",
      "209/209 [==============================] - 3s 16ms/step - loss: 0.0836 - mse: 0.0836 - mae: 0.2592 - val_loss: 0.0831 - val_mse: 0.0831 - val_mae: 0.2574\n",
      "Epoch 30/200\n",
      "209/209 [==============================] - 1s 6ms/step - loss: 0.0835 - mse: 0.0835 - mae: 0.2590 - val_loss: 0.0831 - val_mse: 0.0831 - val_mae: 0.2574\n",
      "Epoch 31/200\n",
      "209/209 [==============================] - 1s 4ms/step - loss: 0.0836 - mse: 0.0836 - mae: 0.2592 - val_loss: 0.0831 - val_mse: 0.0831 - val_mae: 0.2574\n",
      "Epoch 32/200\n",
      "209/209 [==============================] - 1s 3ms/step - loss: 0.0835 - mse: 0.0835 - mae: 0.2591 - val_loss: 0.0831 - val_mse: 0.0831 - val_mae: 0.2574\n",
      "Epoch 33/200\n",
      "209/209 [==============================] - 1s 3ms/step - loss: 0.0835 - mse: 0.0835 - mae: 0.2590 - val_loss: 0.0833 - val_mse: 0.0833 - val_mae: 0.2575\n",
      "Epoch 34/200\n",
      "209/209 [==============================] - 1s 3ms/step - loss: 0.0835 - mse: 0.0835 - mae: 0.2592 - val_loss: 0.0831 - val_mse: 0.0831 - val_mae: 0.2574\n",
      "Epoch 35/200\n",
      "209/209 [==============================] - 1s 3ms/step - loss: 0.0836 - mse: 0.0836 - mae: 0.2592 - val_loss: 0.0836 - val_mse: 0.0836 - val_mae: 0.2576\n",
      "Epoch 36/200\n",
      "209/209 [==============================] - 1s 3ms/step - loss: 0.0835 - mse: 0.0835 - mae: 0.2588 - val_loss: 0.0831 - val_mse: 0.0831 - val_mae: 0.2574\n",
      "Epoch 37/200\n",
      "209/209 [==============================] - 1s 3ms/step - loss: 0.0836 - mse: 0.0836 - mae: 0.2591 - val_loss: 0.0831 - val_mse: 0.0831 - val_mae: 0.2574\n",
      "Epoch 38/200\n",
      "209/209 [==============================] - 1s 3ms/step - loss: 0.0836 - mse: 0.0836 - mae: 0.2592 - val_loss: 0.0831 - val_mse: 0.0831 - val_mae: 0.2573\n",
      "Epoch 39/200\n",
      "209/209 [==============================] - 1s 3ms/step - loss: 0.0834 - mse: 0.0834 - mae: 0.2589 - val_loss: 0.0837 - val_mse: 0.0837 - val_mae: 0.2576\n",
      "Epoch 40/200\n",
      "209/209 [==============================] - 1s 3ms/step - loss: 0.0835 - mse: 0.0835 - mae: 0.2587 - val_loss: 0.0832 - val_mse: 0.0832 - val_mae: 0.2573\n",
      "Epoch 41/200\n",
      "209/209 [==============================] - 1s 3ms/step - loss: 0.0835 - mse: 0.0835 - mae: 0.2589 - val_loss: 0.0831 - val_mse: 0.0831 - val_mae: 0.2574\n",
      "Epoch 42/200\n",
      "203/209 [============================>.] - ETA: 0s - loss: 0.0834 - mse: 0.0834 - mae: 0.2590INFO:tensorflow:Assets written to: models\\model-042.model\\assets\n"
     ]
    },
    {
     "name": "stderr",
     "output_type": "stream",
     "text": [
      "INFO:tensorflow:Assets written to: models\\model-042.model\\assets\n"
     ]
    },
    {
     "name": "stdout",
     "output_type": "stream",
     "text": [
      "209/209 [==============================] - 2s 8ms/step - loss: 0.0835 - mse: 0.0835 - mae: 0.2591 - val_loss: 0.0831 - val_mse: 0.0831 - val_mae: 0.2574\n",
      "Epoch 43/200\n",
      "209/209 [==============================] - 1s 3ms/step - loss: 0.0835 - mse: 0.0835 - mae: 0.2591 - val_loss: 0.0834 - val_mse: 0.0834 - val_mae: 0.2575\n",
      "Epoch 44/200\n",
      "209/209 [==============================] - 1s 3ms/step - loss: 0.0836 - mse: 0.0836 - mae: 0.2590 - val_loss: 0.0832 - val_mse: 0.0832 - val_mae: 0.2573\n",
      "Epoch 45/200\n",
      "209/209 [==============================] - 1s 3ms/step - loss: 0.0836 - mse: 0.0836 - mae: 0.2591 - val_loss: 0.0833 - val_mse: 0.0833 - val_mae: 0.2575\n",
      "Epoch 46/200\n",
      "209/209 [==============================] - 1s 3ms/step - loss: 0.0835 - mse: 0.0835 - mae: 0.2590 - val_loss: 0.0831 - val_mse: 0.0831 - val_mae: 0.2573\n",
      "Epoch 47/200\n",
      "209/209 [==============================] - 1s 3ms/step - loss: 0.0835 - mse: 0.0835 - mae: 0.2591 - val_loss: 0.0831 - val_mse: 0.0831 - val_mae: 0.2573\n",
      "Epoch 48/200\n",
      "209/209 [==============================] - 1s 3ms/step - loss: 0.0835 - mse: 0.0835 - mae: 0.2591 - val_loss: 0.0843 - val_mse: 0.0843 - val_mae: 0.2577\n",
      "Epoch 49/200\n",
      "209/209 [==============================] - 1s 3ms/step - loss: 0.0835 - mse: 0.0835 - mae: 0.2589 - val_loss: 0.0832 - val_mse: 0.0832 - val_mae: 0.2574\n",
      "Epoch 50/200\n",
      "209/209 [==============================] - 1s 3ms/step - loss: 0.0835 - mse: 0.0835 - mae: 0.2591 - val_loss: 0.0832 - val_mse: 0.0832 - val_mae: 0.2575\n",
      "Epoch 51/200\n",
      "209/209 [==============================] - 1s 3ms/step - loss: 0.0834 - mse: 0.0834 - mae: 0.2587 - val_loss: 0.0831 - val_mse: 0.0831 - val_mae: 0.2573\n",
      "Epoch 52/200\n",
      "209/209 [==============================] - 1s 3ms/step - loss: 0.0835 - mse: 0.0835 - mae: 0.2588 - val_loss: 0.0838 - val_mse: 0.0838 - val_mae: 0.2576\n",
      "Epoch 53/200\n",
      "209/209 [==============================] - 1s 3ms/step - loss: 0.0835 - mse: 0.0835 - mae: 0.2591 - val_loss: 0.0831 - val_mse: 0.0831 - val_mae: 0.2574\n",
      "Epoch 54/200\n",
      "209/209 [==============================] - 1s 3ms/step - loss: 0.0835 - mse: 0.0835 - mae: 0.2591 - val_loss: 0.0834 - val_mse: 0.0834 - val_mae: 0.2575\n",
      "Epoch 55/200\n",
      "209/209 [==============================] - 1s 3ms/step - loss: 0.0835 - mse: 0.0835 - mae: 0.2591 - val_loss: 0.0832 - val_mse: 0.0832 - val_mae: 0.2574\n",
      "Epoch 56/200\n",
      "209/209 [==============================] - 1s 3ms/step - loss: 0.0836 - mse: 0.0836 - mae: 0.2590 - val_loss: 0.0831 - val_mse: 0.0831 - val_mae: 0.2573\n",
      "Epoch 57/200\n",
      "209/209 [==============================] - 1s 3ms/step - loss: 0.0835 - mse: 0.0835 - mae: 0.2587 - val_loss: 0.0839 - val_mse: 0.0839 - val_mae: 0.2577\n",
      "Epoch 58/200\n",
      "209/209 [==============================] - 1s 3ms/step - loss: 0.0835 - mse: 0.0835 - mae: 0.2591 - val_loss: 0.0831 - val_mse: 0.0831 - val_mae: 0.2573\n",
      "Epoch 59/200\n",
      "209/209 [==============================] - 1s 3ms/step - loss: 0.0836 - mse: 0.0836 - mae: 0.2592 - val_loss: 0.0832 - val_mse: 0.0832 - val_mae: 0.2575\n",
      "Epoch 60/200\n",
      "209/209 [==============================] - 1s 3ms/step - loss: 0.0835 - mse: 0.0835 - mae: 0.2591 - val_loss: 0.0832 - val_mse: 0.0832 - val_mae: 0.2575\n",
      "Epoch 61/200\n",
      "209/209 [==============================] - 1s 3ms/step - loss: 0.0835 - mse: 0.0835 - mae: 0.2589 - val_loss: 0.0831 - val_mse: 0.0831 - val_mae: 0.2574\n",
      "Epoch 62/200\n",
      "209/209 [==============================] - 1s 3ms/step - loss: 0.0835 - mse: 0.0835 - mae: 0.2590 - val_loss: 0.0831 - val_mse: 0.0831 - val_mae: 0.2573\n",
      "Epoch 63/200\n",
      "209/209 [==============================] - 1s 3ms/step - loss: 0.0835 - mse: 0.0835 - mae: 0.2591 - val_loss: 0.0832 - val_mse: 0.0832 - val_mae: 0.2574\n",
      "Epoch 64/200\n",
      "209/209 [==============================] - 1s 3ms/step - loss: 0.0835 - mse: 0.0835 - mae: 0.2592 - val_loss: 0.0832 - val_mse: 0.0832 - val_mae: 0.2575\n",
      "Epoch 65/200\n",
      "209/209 [==============================] - 1s 3ms/step - loss: 0.0836 - mse: 0.0836 - mae: 0.2590 - val_loss: 0.0832 - val_mse: 0.0832 - val_mae: 0.2575\n",
      "Epoch 66/200\n",
      "209/209 [==============================] - 1s 3ms/step - loss: 0.0836 - mse: 0.0836 - mae: 0.2593 - val_loss: 0.0831 - val_mse: 0.0831 - val_mae: 0.2574\n",
      "Epoch 67/200\n",
      "209/209 [==============================] - 1s 3ms/step - loss: 0.0835 - mse: 0.0835 - mae: 0.2591 - val_loss: 0.0832 - val_mse: 0.0832 - val_mae: 0.2575\n",
      "Epoch 68/200\n",
      "209/209 [==============================] - 1s 3ms/step - loss: 0.0835 - mse: 0.0835 - mae: 0.2591 - val_loss: 0.0832 - val_mse: 0.0832 - val_mae: 0.2574\n",
      "Epoch 69/200\n",
      "189/209 [==========================>...] - ETA: 0s - loss: 0.0830 - mse: 0.0830 - mae: 0.2583INFO:tensorflow:Assets written to: models\\model-069.model\\assets\n"
     ]
    },
    {
     "name": "stderr",
     "output_type": "stream",
     "text": [
      "INFO:tensorflow:Assets written to: models\\model-069.model\\assets\n"
     ]
    },
    {
     "name": "stdout",
     "output_type": "stream",
     "text": [
      "209/209 [==============================] - 2s 8ms/step - loss: 0.0835 - mse: 0.0835 - mae: 0.2591 - val_loss: 0.0831 - val_mse: 0.0831 - val_mae: 0.2573\n",
      "Epoch 70/200\n",
      "209/209 [==============================] - 1s 3ms/step - loss: 0.0836 - mse: 0.0836 - mae: 0.2592 - val_loss: 0.0831 - val_mse: 0.0831 - val_mae: 0.2574\n",
      "Epoch 71/200\n",
      "209/209 [==============================] - 1s 3ms/step - loss: 0.0835 - mse: 0.0835 - mae: 0.2591 - val_loss: 0.0831 - val_mse: 0.0831 - val_mae: 0.2573\n",
      "Epoch 72/200\n",
      "209/209 [==============================] - 1s 3ms/step - loss: 0.0835 - mse: 0.0835 - mae: 0.2590 - val_loss: 0.0831 - val_mse: 0.0831 - val_mae: 0.2574\n",
      "Epoch 73/200\n",
      "209/209 [==============================] - 1s 3ms/step - loss: 0.0836 - mse: 0.0836 - mae: 0.2591 - val_loss: 0.0831 - val_mse: 0.0831 - val_mae: 0.2574\n",
      "Epoch 74/200\n",
      "209/209 [==============================] - 1s 3ms/step - loss: 0.0835 - mse: 0.0835 - mae: 0.2591 - val_loss: 0.0832 - val_mse: 0.0832 - val_mae: 0.2575\n",
      "Epoch 75/200\n",
      "209/209 [==============================] - 1s 3ms/step - loss: 0.0835 - mse: 0.0835 - mae: 0.2592 - val_loss: 0.0832 - val_mse: 0.0832 - val_mae: 0.2575\n",
      "Epoch 76/200\n",
      "209/209 [==============================] - 1s 3ms/step - loss: 0.0836 - mse: 0.0836 - mae: 0.2592 - val_loss: 0.0831 - val_mse: 0.0831 - val_mae: 0.2574\n",
      "Epoch 77/200\n",
      "209/209 [==============================] - 1s 3ms/step - loss: 0.0835 - mse: 0.0835 - mae: 0.2590 - val_loss: 0.0831 - val_mse: 0.0831 - val_mae: 0.2573\n",
      "Epoch 78/200\n",
      "192/209 [==========================>...] - ETA: 0s - loss: 0.0833 - mse: 0.0833 - mae: 0.2587INFO:tensorflow:Assets written to: models\\model-078.model\\assets\n"
     ]
    },
    {
     "name": "stderr",
     "output_type": "stream",
     "text": [
      "INFO:tensorflow:Assets written to: models\\model-078.model\\assets\n"
     ]
    },
    {
     "name": "stdout",
     "output_type": "stream",
     "text": [
      "209/209 [==============================] - 2s 7ms/step - loss: 0.0835 - mse: 0.0835 - mae: 0.2591 - val_loss: 0.0831 - val_mse: 0.0831 - val_mae: 0.2573\n",
      "Epoch 79/200\n",
      "189/209 [==========================>...] - ETA: 0s - loss: 0.0838 - mse: 0.0838 - mae: 0.2591INFO:tensorflow:Assets written to: models\\model-079.model\\assets\n"
     ]
    },
    {
     "name": "stderr",
     "output_type": "stream",
     "text": [
      "INFO:tensorflow:Assets written to: models\\model-079.model\\assets\n"
     ]
    },
    {
     "name": "stdout",
     "output_type": "stream",
     "text": [
      "209/209 [==============================] - 2s 7ms/step - loss: 0.0831 - mse: 0.0831 - mae: 0.2581 - val_loss: 0.0824 - val_mse: 0.0824 - val_mae: 0.2563\n",
      "Epoch 80/200\n",
      "209/209 [==============================] - 1s 3ms/step - loss: 0.0833 - mse: 0.0833 - mae: 0.2581 - val_loss: 0.0828 - val_mse: 0.0828 - val_mae: 0.2568\n",
      "Epoch 81/200\n",
      "209/209 [==============================] - 1s 3ms/step - loss: 0.0830 - mse: 0.0830 - mae: 0.2575 - val_loss: 0.0826 - val_mse: 0.0826 - val_mae: 0.2564\n",
      "Epoch 82/200\n",
      "209/209 [==============================] - 1s 3ms/step - loss: 0.0830 - mse: 0.0830 - mae: 0.2574 - val_loss: 0.0826 - val_mse: 0.0826 - val_mae: 0.2562\n",
      "Epoch 83/200\n",
      "202/209 [===========================>..] - ETA: 0s - loss: 0.0826 - mse: 0.0826 - mae: 0.2564INFO:tensorflow:Assets written to: models\\model-083.model\\assets\n"
     ]
    },
    {
     "name": "stderr",
     "output_type": "stream",
     "text": [
      "INFO:tensorflow:Assets written to: models\\model-083.model\\assets\n"
     ]
    },
    {
     "name": "stdout",
     "output_type": "stream",
     "text": [
      "209/209 [==============================] - 2s 8ms/step - loss: 0.0828 - mse: 0.0828 - mae: 0.2568 - val_loss: 0.0820 - val_mse: 0.0820 - val_mae: 0.2556\n",
      "Epoch 84/200\n",
      "185/209 [=========================>....] - ETA: 0s - loss: 0.0830 - mse: 0.0830 - mae: 0.2575INFO:tensorflow:Assets written to: models\\model-084.model\\assets\n"
     ]
    },
    {
     "name": "stderr",
     "output_type": "stream",
     "text": [
      "INFO:tensorflow:Assets written to: models\\model-084.model\\assets\n"
     ]
    },
    {
     "name": "stdout",
     "output_type": "stream",
     "text": [
      "209/209 [==============================] - 2s 8ms/step - loss: 0.0826 - mse: 0.0826 - mae: 0.2564 - val_loss: 0.0816 - val_mse: 0.0816 - val_mae: 0.2546\n",
      "Epoch 85/200\n",
      "202/209 [===========================>..] - ETA: 0s - loss: 0.0824 - mse: 0.0824 - mae: 0.2556INFO:tensorflow:Assets written to: models\\model-085.model\\assets\n"
     ]
    },
    {
     "name": "stderr",
     "output_type": "stream",
     "text": [
      "INFO:tensorflow:Assets written to: models\\model-085.model\\assets\n"
     ]
    },
    {
     "name": "stdout",
     "output_type": "stream",
     "text": [
      "209/209 [==============================] - 2s 9ms/step - loss: 0.0824 - mse: 0.0824 - mae: 0.2558 - val_loss: 0.0812 - val_mse: 0.0812 - val_mae: 0.2540\n",
      "Epoch 86/200\n",
      "201/209 [===========================>..] - ETA: 0s - loss: 0.0820 - mse: 0.0820 - mae: 0.2548INFO:tensorflow:Assets written to: models\\model-086.model\\assets\n"
     ]
    },
    {
     "name": "stderr",
     "output_type": "stream",
     "text": [
      "INFO:tensorflow:Assets written to: models\\model-086.model\\assets\n"
     ]
    },
    {
     "name": "stdout",
     "output_type": "stream",
     "text": [
      "209/209 [==============================] - 2s 7ms/step - loss: 0.0820 - mse: 0.0820 - mae: 0.2548 - val_loss: 0.0810 - val_mse: 0.0810 - val_mae: 0.2531\n",
      "Epoch 87/200\n",
      "205/209 [============================>.] - ETA: 0s - loss: 0.0819 - mse: 0.0819 - mae: 0.2546INFO:tensorflow:Assets written to: models\\model-087.model\\assets\n"
     ]
    },
    {
     "name": "stderr",
     "output_type": "stream",
     "text": [
      "INFO:tensorflow:Assets written to: models\\model-087.model\\assets\n"
     ]
    },
    {
     "name": "stdout",
     "output_type": "stream",
     "text": [
      "209/209 [==============================] - 1s 7ms/step - loss: 0.0818 - mse: 0.0818 - mae: 0.2546 - val_loss: 0.0807 - val_mse: 0.0807 - val_mae: 0.2521\n",
      "Epoch 88/200\n",
      "209/209 [==============================] - 1s 3ms/step - loss: 0.0815 - mse: 0.0815 - mae: 0.2536 - val_loss: 0.0811 - val_mse: 0.0811 - val_mae: 0.2520\n",
      "Epoch 89/200\n",
      "199/209 [===========================>..] - ETA: 0s - loss: 0.0810 - mse: 0.0810 - mae: 0.2527INFO:tensorflow:Assets written to: models\\model-089.model\\assets\n"
     ]
    },
    {
     "name": "stderr",
     "output_type": "stream",
     "text": [
      "INFO:tensorflow:Assets written to: models\\model-089.model\\assets\n"
     ]
    },
    {
     "name": "stdout",
     "output_type": "stream",
     "text": [
      "209/209 [==============================] - 2s 8ms/step - loss: 0.0813 - mse: 0.0813 - mae: 0.2532 - val_loss: 0.0805 - val_mse: 0.0805 - val_mae: 0.2513\n",
      "Epoch 90/200\n",
      "209/209 [==============================] - 1s 3ms/step - loss: 0.0817 - mse: 0.0817 - mae: 0.2534 - val_loss: 0.0807 - val_mse: 0.0807 - val_mae: 0.2517\n",
      "Epoch 91/200\n",
      "197/209 [===========================>..] - ETA: 0s - loss: 0.0815 - mse: 0.0815 - mae: 0.2532INFO:tensorflow:Assets written to: models\\model-091.model\\assets\n"
     ]
    },
    {
     "name": "stderr",
     "output_type": "stream",
     "text": [
      "INFO:tensorflow:Assets written to: models\\model-091.model\\assets\n"
     ]
    },
    {
     "name": "stdout",
     "output_type": "stream",
     "text": [
      "209/209 [==============================] - 2s 7ms/step - loss: 0.0814 - mse: 0.0814 - mae: 0.2531 - val_loss: 0.0804 - val_mse: 0.0804 - val_mae: 0.2511\n",
      "Epoch 92/200\n",
      "209/209 [==============================] - 1s 3ms/step - loss: 0.0814 - mse: 0.0814 - mae: 0.2530 - val_loss: 0.0805 - val_mse: 0.0805 - val_mae: 0.2516\n",
      "Epoch 93/200\n",
      "203/209 [============================>.] - ETA: 0s - loss: 0.0815 - mse: 0.0815 - mae: 0.2535INFO:tensorflow:Assets written to: models\\model-093.model\\assets\n"
     ]
    },
    {
     "name": "stderr",
     "output_type": "stream",
     "text": [
      "INFO:tensorflow:Assets written to: models\\model-093.model\\assets\n"
     ]
    },
    {
     "name": "stdout",
     "output_type": "stream",
     "text": [
      "209/209 [==============================] - 2s 7ms/step - loss: 0.0816 - mse: 0.0816 - mae: 0.2535 - val_loss: 0.0804 - val_mse: 0.0804 - val_mae: 0.2510\n",
      "Epoch 94/200\n",
      "209/209 [==============================] - 1s 3ms/step - loss: 0.0811 - mse: 0.0811 - mae: 0.2521 - val_loss: 0.0808 - val_mse: 0.0808 - val_mae: 0.2513\n",
      "Epoch 95/200\n",
      "209/209 [==============================] - 1s 3ms/step - loss: 0.0811 - mse: 0.0811 - mae: 0.2521 - val_loss: 0.0812 - val_mse: 0.0812 - val_mae: 0.2512\n",
      "Epoch 96/200\n",
      "209/209 [==============================] - 1s 3ms/step - loss: 0.0813 - mse: 0.0813 - mae: 0.2526 - val_loss: 0.0811 - val_mse: 0.0811 - val_mae: 0.2508\n",
      "Epoch 97/200\n",
      "209/209 [==============================] - 1s 3ms/step - loss: 0.0814 - mse: 0.0814 - mae: 0.2528 - val_loss: 0.0816 - val_mse: 0.0816 - val_mae: 0.2514\n",
      "Epoch 98/200\n",
      "209/209 [==============================] - 1s 3ms/step - loss: 0.0811 - mse: 0.0811 - mae: 0.2524 - val_loss: 0.0809 - val_mse: 0.0809 - val_mae: 0.2507\n",
      "Epoch 99/200\n",
      "198/209 [===========================>..] - ETA: 0s - loss: 0.0808 - mse: 0.0808 - mae: 0.2507INFO:tensorflow:Assets written to: models\\model-099.model\\assets\n"
     ]
    },
    {
     "name": "stderr",
     "output_type": "stream",
     "text": [
      "INFO:tensorflow:Assets written to: models\\model-099.model\\assets\n"
     ]
    },
    {
     "name": "stdout",
     "output_type": "stream",
     "text": [
      "209/209 [==============================] - 2s 9ms/step - loss: 0.0808 - mse: 0.0808 - mae: 0.2508 - val_loss: 0.0801 - val_mse: 0.0801 - val_mae: 0.2501\n",
      "Epoch 100/200\n",
      "186/209 [=========================>....] - ETA: 0s - loss: 0.0806 - mse: 0.0806 - mae: 0.2509INFO:tensorflow:Assets written to: models\\model-100.model\\assets\n"
     ]
    },
    {
     "name": "stderr",
     "output_type": "stream",
     "text": [
      "INFO:tensorflow:Assets written to: models\\model-100.model\\assets\n"
     ]
    },
    {
     "name": "stdout",
     "output_type": "stream",
     "text": [
      "209/209 [==============================] - 2s 7ms/step - loss: 0.0806 - mse: 0.0806 - mae: 0.2510 - val_loss: 0.0801 - val_mse: 0.0801 - val_mae: 0.2500\n",
      "Epoch 101/200\n",
      "209/209 [==============================] - 1s 3ms/step - loss: 0.0807 - mse: 0.0807 - mae: 0.2517 - val_loss: 0.0802 - val_mse: 0.0802 - val_mae: 0.2494\n",
      "Epoch 102/200\n",
      "203/209 [============================>.] - ETA: 0s - loss: 0.0804 - mse: 0.0804 - mae: 0.2499INFO:tensorflow:Assets written to: models\\model-102.model\\assets\n"
     ]
    },
    {
     "name": "stderr",
     "output_type": "stream",
     "text": [
      "INFO:tensorflow:Assets written to: models\\model-102.model\\assets\n"
     ]
    },
    {
     "name": "stdout",
     "output_type": "stream",
     "text": [
      "209/209 [==============================] - 2s 7ms/step - loss: 0.0805 - mse: 0.0805 - mae: 0.2501 - val_loss: 0.0800 - val_mse: 0.0800 - val_mae: 0.2493\n",
      "Epoch 103/200\n",
      "209/209 [==============================] - 1s 3ms/step - loss: 0.0810 - mse: 0.0810 - mae: 0.2515 - val_loss: 0.0800 - val_mse: 0.0800 - val_mae: 0.2495\n",
      "Epoch 104/200\n",
      "209/209 [==============================] - 1s 3ms/step - loss: 0.0808 - mse: 0.0808 - mae: 0.2513 - val_loss: 0.0800 - val_mse: 0.0800 - val_mae: 0.2500\n",
      "Epoch 105/200\n",
      "209/209 [==============================] - 1s 3ms/step - loss: 0.0810 - mse: 0.0810 - mae: 0.2518 - val_loss: 0.0805 - val_mse: 0.0805 - val_mae: 0.2496\n",
      "Epoch 106/200\n",
      "209/209 [==============================] - 1s 3ms/step - loss: 0.0805 - mse: 0.0805 - mae: 0.2505 - val_loss: 0.0800 - val_mse: 0.0800 - val_mae: 0.2496\n",
      "Epoch 107/200\n",
      "209/209 [==============================] - 1s 3ms/step - loss: 0.0807 - mse: 0.0807 - mae: 0.2504 - val_loss: 0.0804 - val_mse: 0.0804 - val_mae: 0.2497\n",
      "Epoch 108/200\n",
      "209/209 [==============================] - ETA: 0s - loss: 0.0807 - mse: 0.0807 - mae: 0.2509INFO:tensorflow:Assets written to: models\\model-108.model\\assets\n"
     ]
    },
    {
     "name": "stderr",
     "output_type": "stream",
     "text": [
      "INFO:tensorflow:Assets written to: models\\model-108.model\\assets\n"
     ]
    },
    {
     "name": "stdout",
     "output_type": "stream",
     "text": [
      "209/209 [==============================] - 1s 7ms/step - loss: 0.0807 - mse: 0.0807 - mae: 0.2509 - val_loss: 0.0799 - val_mse: 0.0799 - val_mae: 0.2489\n",
      "Epoch 109/200\n",
      "209/209 [==============================] - ETA: 0s - loss: 0.0804 - mse: 0.0804 - mae: 0.2502INFO:tensorflow:Assets written to: models\\model-109.model\\assets\n"
     ]
    },
    {
     "name": "stderr",
     "output_type": "stream",
     "text": [
      "INFO:tensorflow:Assets written to: models\\model-109.model\\assets\n"
     ]
    },
    {
     "name": "stdout",
     "output_type": "stream",
     "text": [
      "209/209 [==============================] - 2s 7ms/step - loss: 0.0804 - mse: 0.0804 - mae: 0.2502 - val_loss: 0.0798 - val_mse: 0.0798 - val_mae: 0.2486\n",
      "Epoch 110/200\n",
      "198/209 [===========================>..] - ETA: 0s - loss: 0.0804 - mse: 0.0804 - mae: 0.2497INFO:tensorflow:Assets written to: models\\model-110.model\\assets\n"
     ]
    },
    {
     "name": "stderr",
     "output_type": "stream",
     "text": [
      "INFO:tensorflow:Assets written to: models\\model-110.model\\assets\n"
     ]
    },
    {
     "name": "stdout",
     "output_type": "stream",
     "text": [
      "209/209 [==============================] - 2s 8ms/step - loss: 0.0804 - mse: 0.0804 - mae: 0.2498 - val_loss: 0.0798 - val_mse: 0.0798 - val_mae: 0.2482\n",
      "Epoch 111/200\n",
      "198/209 [===========================>..] - ETA: 0s - loss: 0.0800 - mse: 0.0800 - mae: 0.2491INFO:tensorflow:Assets written to: models\\model-111.model\\assets\n"
     ]
    },
    {
     "name": "stderr",
     "output_type": "stream",
     "text": [
      "INFO:tensorflow:Assets written to: models\\model-111.model\\assets\n"
     ]
    },
    {
     "name": "stdout",
     "output_type": "stream",
     "text": [
      "209/209 [==============================] - 2s 7ms/step - loss: 0.0800 - mse: 0.0800 - mae: 0.2490 - val_loss: 0.0797 - val_mse: 0.0797 - val_mae: 0.2475\n",
      "Epoch 112/200\n",
      "209/209 [==============================] - 1s 4ms/step - loss: 0.0804 - mse: 0.0804 - mae: 0.2496 - val_loss: 0.0798 - val_mse: 0.0798 - val_mae: 0.2479\n",
      "Epoch 113/200\n",
      "209/209 [==============================] - 1s 3ms/step - loss: 0.0806 - mse: 0.0806 - mae: 0.2500 - val_loss: 0.0798 - val_mse: 0.0798 - val_mae: 0.2484\n",
      "Epoch 114/200\n",
      "209/209 [==============================] - 1s 3ms/step - loss: 0.0804 - mse: 0.0804 - mae: 0.2500 - val_loss: 0.0800 - val_mse: 0.0800 - val_mae: 0.2485\n",
      "Epoch 115/200\n",
      "201/209 [===========================>..] - ETA: 0s - loss: 0.0799 - mse: 0.0799 - mae: 0.2490INFO:tensorflow:Assets written to: models\\model-115.model\\assets\n"
     ]
    },
    {
     "name": "stderr",
     "output_type": "stream",
     "text": [
      "INFO:tensorflow:Assets written to: models\\model-115.model\\assets\n"
     ]
    },
    {
     "name": "stdout",
     "output_type": "stream",
     "text": [
      "209/209 [==============================] - 2s 9ms/step - loss: 0.0802 - mse: 0.0802 - mae: 0.2493 - val_loss: 0.0796 - val_mse: 0.0796 - val_mae: 0.2475\n",
      "Epoch 116/200\n",
      "196/209 [===========================>..] - ETA: 0s - loss: 0.0798 - mse: 0.0798 - mae: 0.2489INFO:tensorflow:Assets written to: models\\model-116.model\\assets\n"
     ]
    },
    {
     "name": "stderr",
     "output_type": "stream",
     "text": [
      "INFO:tensorflow:Assets written to: models\\model-116.model\\assets\n"
     ]
    },
    {
     "name": "stdout",
     "output_type": "stream",
     "text": [
      "209/209 [==============================] - 2s 8ms/step - loss: 0.0800 - mse: 0.0800 - mae: 0.2493 - val_loss: 0.0795 - val_mse: 0.0795 - val_mae: 0.2471\n",
      "Epoch 117/200\n",
      "209/209 [==============================] - 1s 3ms/step - loss: 0.0805 - mse: 0.0805 - mae: 0.2496 - val_loss: 0.0802 - val_mse: 0.0802 - val_mae: 0.2484\n",
      "Epoch 118/200\n",
      "209/209 [==============================] - 1s 3ms/step - loss: 0.0803 - mse: 0.0803 - mae: 0.2495 - val_loss: 0.0796 - val_mse: 0.0796 - val_mae: 0.2483\n",
      "Epoch 119/200\n",
      "209/209 [==============================] - 1s 3ms/step - loss: 0.0806 - mse: 0.0806 - mae: 0.2502 - val_loss: 0.0796 - val_mse: 0.0796 - val_mae: 0.2480\n",
      "Epoch 120/200\n",
      "209/209 [==============================] - 1s 3ms/step - loss: 0.0804 - mse: 0.0804 - mae: 0.2497 - val_loss: 0.0796 - val_mse: 0.0796 - val_mae: 0.2478\n",
      "Epoch 121/200\n",
      "207/209 [============================>.] - ETA: 0s - loss: 0.0798 - mse: 0.0798 - mae: 0.2485INFO:tensorflow:Assets written to: models\\model-121.model\\assets\n"
     ]
    },
    {
     "name": "stderr",
     "output_type": "stream",
     "text": [
      "INFO:tensorflow:Assets written to: models\\model-121.model\\assets\n"
     ]
    },
    {
     "name": "stdout",
     "output_type": "stream",
     "text": [
      "209/209 [==============================] - 2s 8ms/step - loss: 0.0798 - mse: 0.0798 - mae: 0.2485 - val_loss: 0.0795 - val_mse: 0.0795 - val_mae: 0.2472\n",
      "Epoch 122/200\n",
      "200/209 [===========================>..] - ETA: 0s - loss: 0.0804 - mse: 0.0804 - mae: 0.2492INFO:tensorflow:Assets written to: models\\model-122.model\\assets\n"
     ]
    },
    {
     "name": "stderr",
     "output_type": "stream",
     "text": [
      "INFO:tensorflow:Assets written to: models\\model-122.model\\assets\n"
     ]
    },
    {
     "name": "stdout",
     "output_type": "stream",
     "text": [
      "209/209 [==============================] - 2s 8ms/step - loss: 0.0801 - mse: 0.0801 - mae: 0.2488 - val_loss: 0.0795 - val_mse: 0.0795 - val_mae: 0.2474\n",
      "Epoch 123/200\n",
      "208/209 [============================>.] - ETA: 0s - loss: 0.0799 - mse: 0.0799 - mae: 0.2482INFO:tensorflow:Assets written to: models\\model-123.model\\assets\n"
     ]
    },
    {
     "name": "stderr",
     "output_type": "stream",
     "text": [
      "INFO:tensorflow:Assets written to: models\\model-123.model\\assets\n"
     ]
    },
    {
     "name": "stdout",
     "output_type": "stream",
     "text": [
      "209/209 [==============================] - 2s 8ms/step - loss: 0.0798 - mse: 0.0798 - mae: 0.2480 - val_loss: 0.0793 - val_mse: 0.0793 - val_mae: 0.2467\n",
      "Epoch 124/200\n",
      "209/209 [==============================] - 1s 3ms/step - loss: 0.0801 - mse: 0.0801 - mae: 0.2486 - val_loss: 0.0797 - val_mse: 0.0797 - val_mae: 0.2475\n",
      "Epoch 125/200\n",
      "209/209 [==============================] - 1s 3ms/step - loss: 0.0799 - mse: 0.0799 - mae: 0.2484 - val_loss: 0.0806 - val_mse: 0.0806 - val_mae: 0.2478\n",
      "Epoch 126/200\n",
      "198/209 [===========================>..] - ETA: 0s - loss: 0.0803 - mse: 0.0803 - mae: 0.2484INFO:tensorflow:Assets written to: models\\model-126.model\\assets\n"
     ]
    },
    {
     "name": "stderr",
     "output_type": "stream",
     "text": [
      "INFO:tensorflow:Assets written to: models\\model-126.model\\assets\n"
     ]
    },
    {
     "name": "stdout",
     "output_type": "stream",
     "text": [
      "209/209 [==============================] - 2s 8ms/step - loss: 0.0802 - mse: 0.0802 - mae: 0.2482 - val_loss: 0.0793 - val_mse: 0.0793 - val_mae: 0.2469\n",
      "Epoch 127/200\n",
      "209/209 [==============================] - 1s 3ms/step - loss: 0.0799 - mse: 0.0799 - mae: 0.2486 - val_loss: 0.0793 - val_mse: 0.0793 - val_mae: 0.2467\n",
      "Epoch 128/200\n",
      "202/209 [===========================>..] - ETA: 0s - loss: 0.0793 - mse: 0.0793 - mae: 0.2469INFO:tensorflow:Assets written to: models\\model-128.model\\assets\n"
     ]
    },
    {
     "name": "stderr",
     "output_type": "stream",
     "text": [
      "INFO:tensorflow:Assets written to: models\\model-128.model\\assets\n"
     ]
    },
    {
     "name": "stdout",
     "output_type": "stream",
     "text": [
      "209/209 [==============================] - 2s 9ms/step - loss: 0.0795 - mse: 0.0795 - mae: 0.2473 - val_loss: 0.0791 - val_mse: 0.0791 - val_mae: 0.2457\n",
      "Epoch 129/200\n",
      "209/209 [==============================] - 1s 4ms/step - loss: 0.0802 - mse: 0.0802 - mae: 0.2484 - val_loss: 0.0792 - val_mse: 0.0792 - val_mae: 0.2468\n",
      "Epoch 130/200\n",
      "209/209 [==============================] - 1s 3ms/step - loss: 0.0798 - mse: 0.0798 - mae: 0.2481 - val_loss: 0.0794 - val_mse: 0.0794 - val_mae: 0.2460\n",
      "Epoch 131/200\n",
      "209/209 [==============================] - 1s 3ms/step - loss: 0.0799 - mse: 0.0799 - mae: 0.2476 - val_loss: 0.0792 - val_mse: 0.0792 - val_mae: 0.2463\n",
      "Epoch 132/200\n",
      "209/209 [==============================] - 1s 3ms/step - loss: 0.0799 - mse: 0.0799 - mae: 0.2482 - val_loss: 0.0793 - val_mse: 0.0793 - val_mae: 0.2462\n",
      "Epoch 133/200\n",
      "209/209 [==============================] - 1s 3ms/step - loss: 0.0800 - mse: 0.0800 - mae: 0.2483 - val_loss: 0.0792 - val_mse: 0.0792 - val_mae: 0.2460\n",
      "Epoch 134/200\n",
      "203/209 [============================>.] - ETA: 0s - loss: 0.0800 - mse: 0.0800 - mae: 0.2485INFO:tensorflow:Assets written to: models\\model-134.model\\assets\n"
     ]
    },
    {
     "name": "stderr",
     "output_type": "stream",
     "text": [
      "INFO:tensorflow:Assets written to: models\\model-134.model\\assets\n"
     ]
    },
    {
     "name": "stdout",
     "output_type": "stream",
     "text": [
      "209/209 [==============================] - 2s 8ms/step - loss: 0.0801 - mse: 0.0801 - mae: 0.2487 - val_loss: 0.0791 - val_mse: 0.0791 - val_mae: 0.2463\n",
      "Epoch 135/200\n",
      "191/209 [==========================>...] - ETA: 0s - loss: 0.0794 - mse: 0.0794 - mae: 0.2471INFO:tensorflow:Assets written to: models\\model-135.model\\assets\n"
     ]
    },
    {
     "name": "stderr",
     "output_type": "stream",
     "text": [
      "INFO:tensorflow:Assets written to: models\\model-135.model\\assets\n"
     ]
    },
    {
     "name": "stdout",
     "output_type": "stream",
     "text": [
      "209/209 [==============================] - 2s 8ms/step - loss: 0.0793 - mse: 0.0793 - mae: 0.2471 - val_loss: 0.0790 - val_mse: 0.0790 - val_mae: 0.2447\n",
      "Epoch 136/200\n",
      "194/209 [==========================>...] - ETA: 0s - loss: 0.0796 - mse: 0.0796 - mae: 0.2470INFO:tensorflow:Assets written to: models\\model-136.model\\assets\n"
     ]
    },
    {
     "name": "stderr",
     "output_type": "stream",
     "text": [
      "INFO:tensorflow:Assets written to: models\\model-136.model\\assets\n"
     ]
    },
    {
     "name": "stdout",
     "output_type": "stream",
     "text": [
      "209/209 [==============================] - 2s 8ms/step - loss: 0.0797 - mse: 0.0797 - mae: 0.2473 - val_loss: 0.0789 - val_mse: 0.0789 - val_mae: 0.2456\n",
      "Epoch 137/200\n",
      "209/209 [==============================] - 1s 3ms/step - loss: 0.0799 - mse: 0.0799 - mae: 0.2477 - val_loss: 0.0791 - val_mse: 0.0791 - val_mae: 0.2456\n",
      "Epoch 138/200\n",
      "194/209 [==========================>...] - ETA: 0s - loss: 0.0796 - mse: 0.0796 - mae: 0.2472INFO:tensorflow:Assets written to: models\\model-138.model\\assets\n"
     ]
    },
    {
     "name": "stderr",
     "output_type": "stream",
     "text": [
      "INFO:tensorflow:Assets written to: models\\model-138.model\\assets\n"
     ]
    },
    {
     "name": "stdout",
     "output_type": "stream",
     "text": [
      "209/209 [==============================] - 2s 8ms/step - loss: 0.0793 - mse: 0.0793 - mae: 0.2468 - val_loss: 0.0789 - val_mse: 0.0789 - val_mae: 0.2455\n",
      "Epoch 139/200\n",
      "192/209 [==========================>...] - ETA: 0s - loss: 0.0787 - mse: 0.0787 - mae: 0.2458INFO:tensorflow:Assets written to: models\\model-139.model\\assets\n"
     ]
    },
    {
     "name": "stderr",
     "output_type": "stream",
     "text": [
      "INFO:tensorflow:Assets written to: models\\model-139.model\\assets\n"
     ]
    },
    {
     "name": "stdout",
     "output_type": "stream",
     "text": [
      "209/209 [==============================] - 2s 8ms/step - loss: 0.0792 - mse: 0.0792 - mae: 0.2463 - val_loss: 0.0788 - val_mse: 0.0788 - val_mae: 0.2445\n",
      "Epoch 140/200\n",
      "209/209 [==============================] - 1s 3ms/step - loss: 0.0794 - mse: 0.0794 - mae: 0.2469 - val_loss: 0.0790 - val_mse: 0.0790 - val_mae: 0.2458\n",
      "Epoch 141/200\n",
      "209/209 [==============================] - 1s 3ms/step - loss: 0.0795 - mse: 0.0795 - mae: 0.2469 - val_loss: 0.0789 - val_mse: 0.0789 - val_mae: 0.2450\n",
      "Epoch 142/200\n",
      "209/209 [==============================] - 1s 3ms/step - loss: 0.0795 - mse: 0.0795 - mae: 0.2467 - val_loss: 0.0792 - val_mse: 0.0792 - val_mae: 0.2459\n",
      "Epoch 143/200\n",
      "209/209 [==============================] - 1s 3ms/step - loss: 0.0799 - mse: 0.0799 - mae: 0.2478 - val_loss: 0.0788 - val_mse: 0.0788 - val_mae: 0.2452\n",
      "Epoch 144/200\n",
      "209/209 [==============================] - 1s 3ms/step - loss: 0.0797 - mse: 0.0797 - mae: 0.2478 - val_loss: 0.0790 - val_mse: 0.0790 - val_mae: 0.2454\n",
      "Epoch 145/200\n",
      "208/209 [============================>.] - ETA: 0s - loss: 0.0795 - mse: 0.0795 - mae: 0.2471INFO:tensorflow:Assets written to: models\\model-145.model\\assets\n"
     ]
    },
    {
     "name": "stderr",
     "output_type": "stream",
     "text": [
      "INFO:tensorflow:Assets written to: models\\model-145.model\\assets\n"
     ]
    },
    {
     "name": "stdout",
     "output_type": "stream",
     "text": [
      "209/209 [==============================] - 2s 7ms/step - loss: 0.0795 - mse: 0.0795 - mae: 0.2470 - val_loss: 0.0787 - val_mse: 0.0787 - val_mae: 0.2451\n",
      "Epoch 146/200\n",
      "209/209 [==============================] - 1s 3ms/step - loss: 0.0792 - mse: 0.0792 - mae: 0.2457 - val_loss: 0.0788 - val_mse: 0.0788 - val_mae: 0.2464\n",
      "Epoch 147/200\n",
      "188/209 [=========================>....] - ETA: 0s - loss: 0.0794 - mse: 0.0794 - mae: 0.2470INFO:tensorflow:Assets written to: models\\model-147.model\\assets\n"
     ]
    },
    {
     "name": "stderr",
     "output_type": "stream",
     "text": [
      "INFO:tensorflow:Assets written to: models\\model-147.model\\assets\n"
     ]
    },
    {
     "name": "stdout",
     "output_type": "stream",
     "text": [
      "209/209 [==============================] - 2s 9ms/step - loss: 0.0791 - mse: 0.0791 - mae: 0.2463 - val_loss: 0.0787 - val_mse: 0.0787 - val_mae: 0.2444\n",
      "Epoch 148/200\n",
      "209/209 [==============================] - 1s 3ms/step - loss: 0.0794 - mse: 0.0794 - mae: 0.2469 - val_loss: 0.0789 - val_mse: 0.0789 - val_mae: 0.2450\n",
      "Epoch 149/200\n",
      "198/209 [===========================>..] - ETA: 0s - loss: 0.0787 - mse: 0.0787 - mae: 0.2450INFO:tensorflow:Assets written to: models\\model-149.model\\assets\n"
     ]
    },
    {
     "name": "stderr",
     "output_type": "stream",
     "text": [
      "INFO:tensorflow:Assets written to: models\\model-149.model\\assets\n"
     ]
    },
    {
     "name": "stdout",
     "output_type": "stream",
     "text": [
      "209/209 [==============================] - 2s 10ms/step - loss: 0.0790 - mse: 0.0790 - mae: 0.2458 - val_loss: 0.0786 - val_mse: 0.0786 - val_mae: 0.2437\n",
      "Epoch 150/200\n",
      "209/209 [==============================] - 1s 4ms/step - loss: 0.0797 - mse: 0.0797 - mae: 0.2473 - val_loss: 0.0791 - val_mse: 0.0791 - val_mae: 0.2462\n",
      "Epoch 151/200\n",
      "209/209 [==============================] - 1s 4ms/step - loss: 0.0798 - mse: 0.0798 - mae: 0.2472 - val_loss: 0.0791 - val_mse: 0.0791 - val_mae: 0.2459\n",
      "Epoch 152/200\n",
      "200/209 [===========================>..] - ETA: 0s - loss: 0.0790 - mse: 0.0790 - mae: 0.2464INFO:tensorflow:Assets written to: models\\model-152.model\\assets\n"
     ]
    },
    {
     "name": "stderr",
     "output_type": "stream",
     "text": [
      "INFO:tensorflow:Assets written to: models\\model-152.model\\assets\n"
     ]
    },
    {
     "name": "stdout",
     "output_type": "stream",
     "text": [
      "209/209 [==============================] - 2s 9ms/step - loss: 0.0789 - mse: 0.0789 - mae: 0.2461 - val_loss: 0.0786 - val_mse: 0.0786 - val_mae: 0.2451\n",
      "Epoch 153/200\n",
      "195/209 [==========================>...] - ETA: 0s - loss: 0.0790 - mse: 0.0790 - mae: 0.2455INFO:tensorflow:Assets written to: models\\model-153.model\\assets\n"
     ]
    },
    {
     "name": "stderr",
     "output_type": "stream",
     "text": [
      "INFO:tensorflow:Assets written to: models\\model-153.model\\assets\n"
     ]
    },
    {
     "name": "stdout",
     "output_type": "stream",
     "text": [
      "209/209 [==============================] - 2s 7ms/step - loss: 0.0792 - mse: 0.0792 - mae: 0.2458 - val_loss: 0.0785 - val_mse: 0.0785 - val_mae: 0.2440\n",
      "Epoch 154/200\n",
      "209/209 [==============================] - 1s 3ms/step - loss: 0.0795 - mse: 0.0795 - mae: 0.2465 - val_loss: 0.0786 - val_mse: 0.0786 - val_mae: 0.2456\n",
      "Epoch 155/200\n",
      "209/209 [==============================] - 1s 2ms/step - loss: 0.0791 - mse: 0.0791 - mae: 0.2458 - val_loss: 0.0786 - val_mse: 0.0786 - val_mae: 0.2444\n",
      "Epoch 156/200\n",
      "209/209 [==============================] - 1s 3ms/step - loss: 0.0795 - mse: 0.0795 - mae: 0.2470 - val_loss: 0.0786 - val_mse: 0.0786 - val_mae: 0.2449\n",
      "Epoch 157/200\n",
      "206/209 [============================>.] - ETA: 0s - loss: 0.0790 - mse: 0.0790 - mae: 0.2460INFO:tensorflow:Assets written to: models\\model-157.model\\assets\n"
     ]
    },
    {
     "name": "stderr",
     "output_type": "stream",
     "text": [
      "INFO:tensorflow:Assets written to: models\\model-157.model\\assets\n"
     ]
    },
    {
     "name": "stdout",
     "output_type": "stream",
     "text": [
      "209/209 [==============================] - 2s 8ms/step - loss: 0.0791 - mse: 0.0791 - mae: 0.2462 - val_loss: 0.0785 - val_mse: 0.0785 - val_mae: 0.2439\n",
      "Epoch 158/200\n",
      "206/209 [============================>.] - ETA: 0s - loss: 0.0791 - mse: 0.0791 - mae: 0.2459INFO:tensorflow:Assets written to: models\\model-158.model\\assets\n"
     ]
    },
    {
     "name": "stderr",
     "output_type": "stream",
     "text": [
      "INFO:tensorflow:Assets written to: models\\model-158.model\\assets\n"
     ]
    },
    {
     "name": "stdout",
     "output_type": "stream",
     "text": [
      "209/209 [==============================] - 2s 7ms/step - loss: 0.0790 - mse: 0.0790 - mae: 0.2457 - val_loss: 0.0784 - val_mse: 0.0784 - val_mae: 0.2444\n",
      "Epoch 159/200\n",
      "201/209 [===========================>..] - ETA: 0s - loss: 0.0789 - mse: 0.0789 - mae: 0.2446INFO:tensorflow:Assets written to: models\\model-159.model\\assets\n"
     ]
    },
    {
     "name": "stderr",
     "output_type": "stream",
     "text": [
      "INFO:tensorflow:Assets written to: models\\model-159.model\\assets\n"
     ]
    },
    {
     "name": "stdout",
     "output_type": "stream",
     "text": [
      "209/209 [==============================] - 2s 7ms/step - loss: 0.0788 - mse: 0.0788 - mae: 0.2444 - val_loss: 0.0783 - val_mse: 0.0783 - val_mae: 0.2433\n",
      "Epoch 160/200\n",
      "209/209 [==============================] - 1s 3ms/step - loss: 0.0791 - mse: 0.0791 - mae: 0.2455 - val_loss: 0.0790 - val_mse: 0.0790 - val_mae: 0.2452\n",
      "Epoch 161/200\n",
      "208/209 [============================>.] - ETA: 0s - loss: 0.0787 - mse: 0.0787 - mae: 0.2449INFO:tensorflow:Assets written to: models\\model-161.model\\assets\n"
     ]
    },
    {
     "name": "stderr",
     "output_type": "stream",
     "text": [
      "INFO:tensorflow:Assets written to: models\\model-161.model\\assets\n"
     ]
    },
    {
     "name": "stdout",
     "output_type": "stream",
     "text": [
      "209/209 [==============================] - 2s 8ms/step - loss: 0.0787 - mse: 0.0787 - mae: 0.2449 - val_loss: 0.0783 - val_mse: 0.0783 - val_mae: 0.2434\n",
      "Epoch 162/200\n",
      "209/209 [==============================] - 1s 3ms/step - loss: 0.0790 - mse: 0.0790 - mae: 0.2450 - val_loss: 0.0786 - val_mse: 0.0786 - val_mae: 0.2447\n",
      "Epoch 163/200\n",
      "209/209 [==============================] - 1s 3ms/step - loss: 0.0796 - mse: 0.0796 - mae: 0.2465 - val_loss: 0.0785 - val_mse: 0.0785 - val_mae: 0.2447\n",
      "Epoch 164/200\n",
      "209/209 [==============================] - 1s 3ms/step - loss: 0.0784 - mse: 0.0784 - mae: 0.2444 - val_loss: 0.0783 - val_mse: 0.0783 - val_mae: 0.2421\n",
      "Epoch 165/200\n",
      "209/209 [==============================] - 1s 3ms/step - loss: 0.0789 - mse: 0.0789 - mae: 0.2449 - val_loss: 0.0783 - val_mse: 0.0783 - val_mae: 0.2419\n",
      "Epoch 166/200\n",
      "196/209 [===========================>..] - ETA: 0s - loss: 0.0790 - mse: 0.0790 - mae: 0.2449INFO:tensorflow:Assets written to: models\\model-166.model\\assets\n"
     ]
    },
    {
     "name": "stderr",
     "output_type": "stream",
     "text": [
      "INFO:tensorflow:Assets written to: models\\model-166.model\\assets\n"
     ]
    },
    {
     "name": "stdout",
     "output_type": "stream",
     "text": [
      "209/209 [==============================] - 1s 7ms/step - loss: 0.0792 - mse: 0.0792 - mae: 0.2450 - val_loss: 0.0783 - val_mse: 0.0783 - val_mae: 0.2441\n",
      "Epoch 167/200\n",
      "209/209 [==============================] - 1s 3ms/step - loss: 0.0789 - mse: 0.0789 - mae: 0.2449 - val_loss: 0.0784 - val_mse: 0.0784 - val_mae: 0.2433\n",
      "Epoch 168/200\n",
      "209/209 [==============================] - 1s 3ms/step - loss: 0.0788 - mse: 0.0788 - mae: 0.2445 - val_loss: 0.0784 - val_mse: 0.0784 - val_mae: 0.2437\n",
      "Epoch 169/200\n",
      "209/209 [==============================] - 1s 3ms/step - loss: 0.0784 - mse: 0.0784 - mae: 0.2439 - val_loss: 0.0784 - val_mse: 0.0784 - val_mae: 0.2446\n",
      "Epoch 170/200\n",
      "209/209 [==============================] - 1s 3ms/step - loss: 0.0789 - mse: 0.0789 - mae: 0.2451 - val_loss: 0.0783 - val_mse: 0.0783 - val_mae: 0.2434\n",
      "Epoch 171/200\n",
      "209/209 [==============================] - 1s 3ms/step - loss: 0.0790 - mse: 0.0790 - mae: 0.2449 - val_loss: 0.0784 - val_mse: 0.0784 - val_mae: 0.2443\n",
      "Epoch 172/200\n",
      "193/209 [==========================>...] - ETA: 0s - loss: 0.0787 - mse: 0.0787 - mae: 0.2446INFO:tensorflow:Assets written to: models\\model-172.model\\assets\n"
     ]
    },
    {
     "name": "stderr",
     "output_type": "stream",
     "text": [
      "INFO:tensorflow:Assets written to: models\\model-172.model\\assets\n"
     ]
    },
    {
     "name": "stdout",
     "output_type": "stream",
     "text": [
      "209/209 [==============================] - 2s 8ms/step - loss: 0.0790 - mse: 0.0790 - mae: 0.2451 - val_loss: 0.0782 - val_mse: 0.0782 - val_mae: 0.2435\n",
      "Epoch 173/200\n",
      "209/209 [==============================] - 1s 3ms/step - loss: 0.0789 - mse: 0.0789 - mae: 0.2449 - val_loss: 0.0783 - val_mse: 0.0783 - val_mae: 0.2432\n",
      "Epoch 174/200\n",
      "209/209 [==============================] - 1s 3ms/step - loss: 0.0788 - mse: 0.0788 - mae: 0.2449 - val_loss: 0.0782 - val_mse: 0.0782 - val_mae: 0.2436\n",
      "Epoch 175/200\n",
      "209/209 [==============================] - 1s 3ms/step - loss: 0.0788 - mse: 0.0788 - mae: 0.2449 - val_loss: 0.0782 - val_mse: 0.0782 - val_mae: 0.2438\n",
      "Epoch 176/200\n",
      "189/209 [==========================>...] - ETA: 0s - loss: 0.0782 - mse: 0.0782 - mae: 0.2435INFO:tensorflow:Assets written to: models\\model-176.model\\assets\n"
     ]
    },
    {
     "name": "stderr",
     "output_type": "stream",
     "text": [
      "INFO:tensorflow:Assets written to: models\\model-176.model\\assets\n"
     ]
    },
    {
     "name": "stdout",
     "output_type": "stream",
     "text": [
      "209/209 [==============================] - 2s 8ms/step - loss: 0.0787 - mse: 0.0787 - mae: 0.2443 - val_loss: 0.0782 - val_mse: 0.0782 - val_mae: 0.2430\n",
      "Epoch 177/200\n",
      "209/209 [==============================] - 1s 3ms/step - loss: 0.0786 - mse: 0.0786 - mae: 0.2443 - val_loss: 0.0785 - val_mse: 0.0785 - val_mae: 0.2431\n",
      "Epoch 178/200\n",
      "209/209 [==============================] - 1s 3ms/step - loss: 0.0785 - mse: 0.0785 - mae: 0.2439 - val_loss: 0.0786 - val_mse: 0.0786 - val_mae: 0.2447\n",
      "Epoch 179/200\n",
      "209/209 [==============================] - 1s 3ms/step - loss: 0.0786 - mse: 0.0786 - mae: 0.2437 - val_loss: 0.0782 - val_mse: 0.0782 - val_mae: 0.2430\n",
      "Epoch 180/200\n",
      "209/209 [==============================] - 1s 3ms/step - loss: 0.0789 - mse: 0.0789 - mae: 0.2440 - val_loss: 0.0790 - val_mse: 0.0790 - val_mae: 0.2448\n",
      "Epoch 181/200\n",
      "203/209 [============================>.] - ETA: 0s - loss: 0.0784 - mse: 0.0784 - mae: 0.2443INFO:tensorflow:Assets written to: models\\model-181.model\\assets\n"
     ]
    },
    {
     "name": "stderr",
     "output_type": "stream",
     "text": [
      "INFO:tensorflow:Assets written to: models\\model-181.model\\assets\n"
     ]
    },
    {
     "name": "stdout",
     "output_type": "stream",
     "text": [
      "209/209 [==============================] - 2s 7ms/step - loss: 0.0786 - mse: 0.0786 - mae: 0.2446 - val_loss: 0.0781 - val_mse: 0.0781 - val_mae: 0.2423\n",
      "Epoch 182/200\n",
      "209/209 [==============================] - 1s 3ms/step - loss: 0.0789 - mse: 0.0789 - mae: 0.2444 - val_loss: 0.0782 - val_mse: 0.0782 - val_mae: 0.2439\n",
      "Epoch 183/200\n",
      "209/209 [==============================] - 1s 3ms/step - loss: 0.0787 - mse: 0.0787 - mae: 0.2438 - val_loss: 0.0781 - val_mse: 0.0781 - val_mae: 0.2431\n",
      "Epoch 184/200\n",
      "209/209 [==============================] - 1s 3ms/step - loss: 0.0789 - mse: 0.0789 - mae: 0.2451 - val_loss: 0.0781 - val_mse: 0.0781 - val_mae: 0.2428\n",
      "Epoch 185/200\n",
      "209/209 [==============================] - 1s 3ms/step - loss: 0.0789 - mse: 0.0789 - mae: 0.2447 - val_loss: 0.0782 - val_mse: 0.0782 - val_mae: 0.2426\n",
      "Epoch 186/200\n",
      "209/209 [==============================] - 1s 3ms/step - loss: 0.0786 - mse: 0.0786 - mae: 0.2440 - val_loss: 0.0781 - val_mse: 0.0781 - val_mae: 0.2431\n",
      "Epoch 187/200\n",
      "209/209 [==============================] - 1s 3ms/step - loss: 0.0783 - mse: 0.0783 - mae: 0.2435 - val_loss: 0.0784 - val_mse: 0.0784 - val_mae: 0.2432\n",
      "Epoch 188/200\n",
      "209/209 [==============================] - 1s 3ms/step - loss: 0.0784 - mse: 0.0784 - mae: 0.2435 - val_loss: 0.0782 - val_mse: 0.0782 - val_mae: 0.2417\n",
      "Epoch 189/200\n",
      "209/209 [==============================] - 1s 3ms/step - loss: 0.0789 - mse: 0.0789 - mae: 0.2444 - val_loss: 0.0782 - val_mse: 0.0782 - val_mae: 0.2437\n",
      "Epoch 190/200\n",
      "209/209 [==============================] - 1s 3ms/step - loss: 0.0787 - mse: 0.0787 - mae: 0.2442 - val_loss: 0.0784 - val_mse: 0.0784 - val_mae: 0.2448\n",
      "Epoch 191/200\n",
      "192/209 [==========================>...] - ETA: 0s - loss: 0.0784 - mse: 0.0784 - mae: 0.2437INFO:tensorflow:Assets written to: models\\model-191.model\\assets\n"
     ]
    },
    {
     "name": "stderr",
     "output_type": "stream",
     "text": [
      "INFO:tensorflow:Assets written to: models\\model-191.model\\assets\n"
     ]
    },
    {
     "name": "stdout",
     "output_type": "stream",
     "text": [
      "209/209 [==============================] - 2s 8ms/step - loss: 0.0784 - mse: 0.0784 - mae: 0.2437 - val_loss: 0.0780 - val_mse: 0.0780 - val_mae: 0.2433\n",
      "Epoch 192/200\n",
      "198/209 [===========================>..] - ETA: 0s - loss: 0.0781 - mse: 0.0781 - mae: 0.2429INFO:tensorflow:Assets written to: models\\model-192.model\\assets\n"
     ]
    },
    {
     "name": "stderr",
     "output_type": "stream",
     "text": [
      "INFO:tensorflow:Assets written to: models\\model-192.model\\assets\n"
     ]
    },
    {
     "name": "stdout",
     "output_type": "stream",
     "text": [
      "209/209 [==============================] - 2s 9ms/step - loss: 0.0785 - mse: 0.0785 - mae: 0.2435 - val_loss: 0.0780 - val_mse: 0.0780 - val_mae: 0.2431\n",
      "Epoch 193/200\n",
      "207/209 [============================>.] - ETA: 0s - loss: 0.0781 - mse: 0.0781 - mae: 0.2435INFO:tensorflow:Assets written to: models\\model-193.model\\assets\n"
     ]
    },
    {
     "name": "stderr",
     "output_type": "stream",
     "text": [
      "INFO:tensorflow:Assets written to: models\\model-193.model\\assets\n"
     ]
    },
    {
     "name": "stdout",
     "output_type": "stream",
     "text": [
      "209/209 [==============================] - 2s 9ms/step - loss: 0.0781 - mse: 0.0781 - mae: 0.2436 - val_loss: 0.0780 - val_mse: 0.0780 - val_mae: 0.2422\n",
      "Epoch 194/200\n",
      "203/209 [============================>.] - ETA: 0s - loss: 0.0790 - mse: 0.0790 - mae: 0.2443INFO:tensorflow:Assets written to: models\\model-194.model\\assets\n"
     ]
    },
    {
     "name": "stderr",
     "output_type": "stream",
     "text": [
      "INFO:tensorflow:Assets written to: models\\model-194.model\\assets\n"
     ]
    },
    {
     "name": "stdout",
     "output_type": "stream",
     "text": [
      "209/209 [==============================] - 2s 9ms/step - loss: 0.0786 - mse: 0.0786 - mae: 0.2436 - val_loss: 0.0779 - val_mse: 0.0779 - val_mae: 0.2423\n",
      "Epoch 195/200\n",
      "209/209 [==============================] - 1s 3ms/step - loss: 0.0783 - mse: 0.0783 - mae: 0.2432 - val_loss: 0.0781 - val_mse: 0.0781 - val_mae: 0.2427\n",
      "Epoch 196/200\n",
      "209/209 [==============================] - 1s 3ms/step - loss: 0.0784 - mse: 0.0784 - mae: 0.2435 - val_loss: 0.0784 - val_mse: 0.0784 - val_mae: 0.2421\n",
      "Epoch 197/200\n",
      "209/209 [==============================] - 1s 3ms/step - loss: 0.0786 - mse: 0.0786 - mae: 0.2437 - val_loss: 0.0780 - val_mse: 0.0780 - val_mae: 0.2430\n",
      "Epoch 198/200\n",
      "209/209 [==============================] - 1s 3ms/step - loss: 0.0788 - mse: 0.0788 - mae: 0.2442 - val_loss: 0.0780 - val_mse: 0.0780 - val_mae: 0.2436\n",
      "Epoch 199/200\n",
      "209/209 [==============================] - 1s 3ms/step - loss: 0.0784 - mse: 0.0784 - mae: 0.2431 - val_loss: 0.0782 - val_mse: 0.0782 - val_mae: 0.2442\n",
      "Epoch 200/200\n",
      "209/209 [==============================] - 1s 3ms/step - loss: 0.0781 - mse: 0.0781 - mae: 0.2433 - val_loss: 0.0780 - val_mse: 0.0780 - val_mae: 0.2425\n"
     ]
    }
   ],
   "source": [
    "history=model.fit(train_data,train_target,epochs=200,validation_data=(test_data,test_target),callbacks=[checkpoint])"
   ]
  },
  {
   "cell_type": "code",
   "execution_count": 13,
   "id": "1957d073",
   "metadata": {},
   "outputs": [
    {
     "data": {
      "image/png": "[encoded data removed]",
      "text/plain": [
       "<Figure size 432x288 with 1 Axes>"
      ]
     },
     "metadata": {
      "needs_background": "light"
     },
     "output_type": "display_data"
    }
   ],
   "source": [
    "from matplotlib import pyplot as plt\n",
    "\n",
    "plt.plot(model.history.history['loss'])\n",
    "plt.plot(model.history.history['val_loss'])\n",
    "plt.xlabel('# epochs')\n",
    "plt.ylabel('loss')\n",
    "plt.show()"
   ]
  },
  {
   "cell_type": "code",
   "execution_count": 14,
   "id": "d62e6536",
   "metadata": {},
   "outputs": [
    {
     "name": "stdout",
     "output_type": "stream",
     "text": [
      "INFO:tensorflow:Assets written to: model_new\\assets\n"
     ]
    },
    {
     "name": "stderr",
     "output_type": "stream",
     "text": [
      "INFO:tensorflow:Assets written to: model_new\\assets\n"
     ]
    }
   ],
   "source": [
    "model.save('model_new')"
   ]
  },
  {
   "cell_type": "code",
   "execution_count": 16,
   "id": "80610a21",
   "metadata": {},
   "outputs": [
    {
     "data": {
      "text/plain": [
       "['scaler_target.sav']"
      ]
     },
     "execution_count": 16,
     "metadata": {},
     "output_type": "execute_result"
    }
   ],
   "source": [
    "import joblib\n",
    "\n",
    "joblib.dump(scaler_data,'scaler_data.sav')\n",
    "joblib.dump(scaler_target,'scaler_target.sav')"
   ]
  },
  {
   "cell_type": "code",
   "execution_count": null,
   "id": "ebb7b3c4",
   "metadata": {},
   "outputs": [],
   "source": []
  }
 ],
 "metadata": {
  "kernelspec": {
   "display_name": "Python 3 (ipykernel)",
   "language": "python",
   "name": "python3"
  },
  "language_info": {
   "codemirror_mode": {
    "name": "ipython",
    "version": 3
   },
   "file_extension": ".py",
   "mimetype": "text/x-python",
   "name": "python",
   "nbconvert_exporter": "python",
   "pygments_lexer": "ipython3",
   "version": "3.9.12"
  }
 },
 "nbformat": 4,
 "nbformat_minor": 5
}
